{
 "cells": [
  {
   "cell_type": "code",
   "execution_count": 1,
   "id": "3029dc7d",
   "metadata": {},
   "outputs": [
    {
     "name": "stdout",
     "output_type": "stream",
     "text": [
      "✅ PySpark versión: 3.4.1\n"
     ]
    },
    {
     "name": "stderr",
     "output_type": "stream",
     "text": [
      "Setting default log level to \"WARN\".\n",
      "To adjust logging level use sc.setLogLevel(newLevel). For SparkR, use setLogLevel(newLevel).\n",
      "25/09/28 17:17:07 WARN NativeCodeLoader: Unable to load native-hadoop library for your platform... using builtin-java classes where applicable\n"
     ]
    },
    {
     "name": "stdout",
     "output_type": "stream",
     "text": [
      "✅ Sesión de Spark creada exitosamente\n",
      "🌐 Spark UI: http://localhost:4040\n",
      "🎯 Master: spark://spark-master:7077\n",
      "📊 Spark Version: 3.4.1\n"
     ]
    }
   ],
   "source": [
    "# Configuración inicial de Spark\n",
    "import sys\n",
    "import os\n",
    "\n",
    "# Configurar rutas para el entorno virtual\n",
    "sys.path.insert(0, '/opt/python-env/lib/python3.11/site-packages')\n",
    "\n",
    "# Importar findspark y configurar Spark\n",
    "import findspark\n",
    "findspark.init('/opt/spark')\n",
    "\n",
    "import pyspark\n",
    "from pyspark.sql import SparkSession\n",
    "\n",
    "print(f\"✅ PySpark versión: {pyspark.__version__}\")\n",
    "\n",
    "# Crear sesión de Spark con configuración optimizada\n",
    "spark = SparkSession.builder \\\n",
    "    .appName(\"BigDataExample-ELT\") \\\n",
    "    .master(\"spark://spark-master:7077\") \\\n",
    "    .config(\"spark.sql.adaptive.enabled\", \"true\") \\\n",
    "    .config(\"spark.sql.adaptive.coalescePartitions.enabled\", \"true\") \\\n",
    "    .config(\"spark.executor.memory\", \"1g\") \\\n",
    "    .config(\"spark.driver.memory\", \"1g\") \\\n",
    "    .getOrCreate()\n",
    "\n",
    "print(\"✅ Sesión de Spark creada exitosamente\")\n",
    "print(f\"🌐 Spark UI: http://localhost:4040\")\n",
    "print(f\"🎯 Master: {spark.sparkContext.master}\")\n",
    "print(f\"📊 Spark Version: {spark.version}\")"
   ]
  },
  {
   "cell_type": "code",
   "execution_count": 2,
   "id": "b0a96892",
   "metadata": {},
   "outputs": [
    {
     "name": "stderr",
     "output_type": "stream",
     "text": [
      "                                                                                "
     ]
    },
    {
     "name": "stdout",
     "output_type": "stream",
     "text": [
      "+-------+---+\n",
      "|   name|age|\n",
      "+-------+---+\n",
      "|  Alice| 25|\n",
      "|    Bob| 30|\n",
      "|Charlie| 35|\n",
      "+-------+---+\n",
      "\n"
     ]
    },
    {
     "name": "stderr",
     "output_type": "stream",
     "text": [
      "[Stage 3:======================================>                   (8 + 4) / 12]"
     ]
    },
    {
     "name": "stdout",
     "output_type": "stream",
     "text": [
      "✅ Datos guardados en HDFS\n"
     ]
    },
    {
     "name": "stderr",
     "output_type": "stream",
     "text": [
      "                                                                                "
     ]
    }
   ],
   "source": [
    "# Prueba básica con HDFS\n",
    "import pandas as pd\n",
    "\n",
    "# Crear datos de prueba\n",
    "data = [(\"Alice\", 25), (\"Bob\", 30), (\"Charlie\", 35)]\n",
    "df = spark.createDataFrame(data, [\"name\", \"age\"])\n",
    "\n",
    "# Mostrar datos\n",
    "df.show()\n",
    "\n",
    "# Guardar en HDFS\n",
    "df.write.mode(\"overwrite\").parquet(\"hdfs://namenode:9000/data/output/test_data\")\n",
    "print(\"✅ Datos guardados en HDFS\")"
   ]
  },
  {
   "cell_type": "code",
   "execution_count": 3,
   "id": "14fe2d3a",
   "metadata": {},
   "outputs": [
    {
     "name": "stdout",
     "output_type": "stream",
     "text": [
      "Datos leídos desde HDFS:\n",
      "+-------+---+\n",
      "|   name|age|\n",
      "+-------+---+\n",
      "|Charlie| 35|\n",
      "|  Alice| 25|\n",
      "|    Bob| 30|\n",
      "+-------+---+\n",
      "\n",
      "Edad promedio: 30.0\n"
     ]
    }
   ],
   "source": [
    "# Leer desde HDFS y procesar\n",
    "df_read = spark.read.parquet(\"hdfs://namenode:9000/data/output/test_data\")\n",
    "\n",
    "print(\"Datos leídos desde HDFS:\")\n",
    "df_read.show()\n",
    "\n",
    "# Operaciones básicas\n",
    "avg_age = df_read.agg({\"age\": \"avg\"}).collect()[0][0]\n",
    "print(f\"Edad promedio: {avg_age}\")\n",
    "\n",
    "spark.stop()"
   ]
  }
 ],
 "metadata": {
  "kernelspec": {
   "display_name": "Python 3 (ipykernel)",
   "language": "python",
   "name": "python3"
  },
  "language_info": {
   "codemirror_mode": {
    "name": "ipython",
    "version": 3
   },
   "file_extension": ".py",
   "mimetype": "text/x-python",
   "name": "python",
   "nbconvert_exporter": "python",
   "pygments_lexer": "ipython3",
   "version": "3.11.2"
  }
 },
 "nbformat": 4,
 "nbformat_minor": 5
}
