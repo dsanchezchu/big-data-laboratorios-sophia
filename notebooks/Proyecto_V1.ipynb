{
 "cells": [
  {
   "cell_type": "markdown",
   "id": "a1d21414",
   "metadata": {},
   "source": [
    "## Cargar Dataframes\n"
   ]
  },
  {
   "cell_type": "code",
   "execution_count": 2,
   "id": "302d8405-950e-471e-a617-1fba0f702cf6",
   "metadata": {},
   "outputs": [
    {
     "name": "stderr",
     "output_type": "stream",
     "text": [
      "Setting default log level to \"WARN\".\n",
      "To adjust logging level use sc.setLogLevel(newLevel). For SparkR, use setLogLevel(newLevel).\n",
      "25/09/29 23:58:31 WARN NativeCodeLoader: Unable to load native-hadoop library for your platform... using builtin-java classes where applicable\n"
     ]
    }
   ],
   "source": [
    "from pyspark.sql import SparkSession\n",
    "\n",
    "# Inicializa SparkSession\n",
    "spark = SparkSession.builder.getOrCreate()"
   ]
  },
  {
   "cell_type": "code",
   "execution_count": 3,
   "id": "ea7f3fef-a7c0-406a-8213-f92f9152e537",
   "metadata": {},
   "outputs": [
    {
     "name": "stdout",
     "output_type": "stream",
     "text": [
      "+-----------+------------------+-------------------------------------------------+\n",
      "|Producto   |Numero de articulo|Descripcion                                      |\n",
      "+-----------+------------------+-------------------------------------------------+\n",
      "|LAGRICEL PF|41582             |LAGRICEL OFTENO LIBRE DE CONSERVADORES (PF) 10 ML|\n",
      "|ELIPTIC PF |41561             |ELIPTIC OFTENO 5ML PF PERU                       |\n",
      "|LAGRICEL   |40515             |LAGRICEL OFTENO 0.5 ML                           |\n",
      "|FLUMETOL NF|40513             |FLUMETOL NF OFTENO 5ML                           |\n",
      "|TRAZIDEX O |40341             |TRAZIDEX OFTENO 5 ML.                            |\n",
      "|TRAZIDEX U |40342             |TRAZIDEX UNGENA 3.5 G                            |\n",
      "|SOPHIPREN  |40338             |SOPHIPREN OFTENO 5 ML                            |\n",
      "|GAAP       |40498             |GAAP OFTENO 3 ML                                 |\n",
      "|AQUADRAN   |41945             |AQUADRAN 10G                                     |\n",
      "|GAAP PF    |41567             |GAAP OFTENO LIBRE DE CONSER PF 3 ML PERU         |\n",
      "|ZEBESTEN   |41604             |ZEBESTEN 5ML PERU                                |\n",
      "|LANDAX     |41804             |LANDAX 5ML                                       |\n",
      "|ELAR-B     |42098             |ELAR-B 5 ML                                      |\n",
      "|DUSTALOX   |41121             |DUSTALOX 5ML                                     |\n",
      "|ELIPTIC    |41076             |ELIPTIC OFTENO 5ML                               |\n",
      "|AGGLAD     |40351             |AGGLAD OFTENO 5 ML                               |\n",
      "+-----------+------------------+-------------------------------------------------+\n",
      "\n"
     ]
    }
   ],
   "source": [
    "hdfs_path_maestra = \"hdfs://namenode:9000/user/nifi/maestra.csv\"\n",
    "df_maestra = spark.read.csv(hdfs_path_maestra, header=True, inferSchema=True, sep=\";\")\n",
    "df_maestra.show(truncate=False)"
   ]
  },
  {
   "cell_type": "code",
   "execution_count": 4,
   "id": "8a3c73a8-75d1-4dcb-9d2d-e59b2a7531e5",
   "metadata": {},
   "outputs": [
    {
     "name": "stdout",
     "output_type": "stream",
     "text": [
      "+-----------+-----------------------------------------------------------------+-----------+-------+---+-------+--------+\n",
      "|Vendedor   |Nombre Cliente                                                   |Producto   |MES NUM|Mes|2025   |CANTIDAD|\n",
      "+-----------+-----------------------------------------------------------------+-----------+-------+---+-------+--------+\n",
      "|Pharma - N1|ADMINISTRADORA CLINICA TRESA S.A                                 |AGGLAD     |1      |ENE|0      |0       |\n",
      "|Pharma - N1|ADMINISTRADORA CLINICA TRESA S.A                                 |FLUMETOL NF|1      |ENE|0      |0       |\n",
      "|Pharma - N1|ADMINISTRADORA CLINICA TRESA S.A                                 |GAAP       |1      |ENE|0      |0       |\n",
      "|Pharma - N1|ADMINISTRADORA CLINICA TRESA S.A                                 |LAGRICEL   |1      |ENE|0      |0       |\n",
      "|Pharma - N1|BENEL PEREZ,DENNY JAVIER                                         |FLUMETOL NF|1      |ENE|898.37 |20      |\n",
      "|Pharma - N1|BENEL PEREZ,DENNY JAVIER                                         |TRAZIDEX U |1      |ENE|1028.61|20      |\n",
      "|Pharma - N1|BM CLINICA DE OJOS S.A.C.                                        |FLUMETOL NF|1      |ENE|612.53 |15      |\n",
      "|Pharma - N1|BM CLINICA DE OJOS S.A.C.                                        |GAAP       |1      |ENE|1925.85|25      |\n",
      "|Pharma - N1|BM CLINICA DE OJOS S.A.C.                                        |TRAZIDEX O |1      |ENE|250.05 |6       |\n",
      "|Pharma - N1|BM CLINICA DE OJOS S.A.C.                                        |TRAZIDEX U |1      |ENE|635.59 |0       |\n",
      "|Pharma - N1|BUENA VISION NORTE EMPRESA INDIVIDUAL DE RESPONSABILIDAD LIMITADA|TRAZIDEX U |1      |ENE|1028.61|0       |\n",
      "|Pharma - N1|CARMONA HUAYGUA,KARLA FABIOLA                                    |AQUADRAN   |1      |ENE|540    |0       |\n",
      "|Pharma - N1|CARMONA HUAYGUA,KARLA FABIOLA                                    |ELIPTIC PF |1      |ENE|237.76 |0       |\n",
      "|Pharma - N1|CARMONA HUAYGUA,KARLA FABIOLA                                    |SOPHIPREN  |1      |ENE|465.85 |0       |\n",
      "|Pharma - N1|CARMONA HUAYGUA,KARLA FABIOLA                                    |ZEBESTEN   |1      |ENE|490.88 |0       |\n",
      "|Pharma - N1|CENTRO MEDICO VIDAVA'S S.A.C.                                    |AGGLAD     |1      |ENE|0      |0       |\n",
      "|Pharma - N1|CENTRO MEDICO VIDAVA'S S.A.C.                                    |AQUADRAN   |1      |ENE|0      |0       |\n",
      "|Pharma - N1|CENTRO MEDICO VIDAVA'S S.A.C.                                    |ZEBESTEN   |1      |ENE|0      |0       |\n",
      "|Pharma - N1|CENTRO OFTALMOLOGICO NOBA VISION E.I.R.L.                        |ELIPTIC PF |1      |ENE|1144.01|0       |\n",
      "|Pharma - N1|CENTRO OFTALMOLOGICO NOBA VISION E.I.R.L.                        |LAGRICEL PF|1      |ENE|1249.71|0       |\n",
      "+-----------+-----------------------------------------------------------------+-----------+-------+---+-------+--------+\n",
      "only showing top 20 rows\n",
      "\n"
     ]
    }
   ],
   "source": [
    "# Segundo CSV\n",
    "hdfs_path_zona = \"hdfs://namenode:9000/user/nifi/bd_zona.csv\"\n",
    "df_zona = spark.read.csv(hdfs_path_zona, header=True, inferSchema=True, sep=\";\")\n",
    "df_zona.show(truncate=False)"
   ]
  },
  {
   "cell_type": "markdown",
   "id": "be2dcd72",
   "metadata": {},
   "source": [
    "## Manejo de datos nulos\n"
   ]
  },
  {
   "cell_type": "code",
   "execution_count": 5,
   "id": "95ae6e02-3e08-461c-9bb6-46db264131d9",
   "metadata": {},
   "outputs": [
    {
     "name": "stdout",
     "output_type": "stream",
     "text": [
      "+-------------+-----------------------+----------------+\n",
      "|sum(Producto)|sum(Numero de articulo)|sum(Descripcion)|\n",
      "+-------------+-----------------------+----------------+\n",
      "|            0|                      0|               0|\n",
      "+-------------+-----------------------+----------------+\n",
      "\n",
      "+-------------+-------------------+-------------+------------+--------+---------+-------------+\n",
      "|sum(Vendedor)|sum(Nombre Cliente)|sum(Producto)|sum(MES NUM)|sum(Mes)|sum(2025)|sum(CANTIDAD)|\n",
      "+-------------+-------------------+-------------+------------+--------+---------+-------------+\n",
      "|            0|                  0|            0|           0|       0|        0|            0|\n",
      "+-------------+-------------------+-------------+------------+--------+---------+-------------+\n",
      "\n"
     ]
    }
   ],
   "source": [
    "from pyspark.sql.functions import col\n",
    "\n",
    "# Contar nulos en df_maestra\n",
    "df_maestra.select([\n",
    "    (col(c).isNull().cast(\"int\")).alias(c) for c in df_maestra.columns\n",
    "]).groupBy().sum().show()\n",
    "\n",
    "# Contar nulos en df_zona\n",
    "df_zona.select([\n",
    "    (col(c).isNull().cast(\"int\")).alias(c) for c in df_zona.columns\n",
    "]).groupBy().sum().show()\n"
   ]
  },
  {
   "cell_type": "code",
   "execution_count": 6,
   "id": "66687a23-fdaa-45f2-9b23-61f2655ffb1d",
   "metadata": {},
   "outputs": [],
   "source": [
    "# Eliminar filas con valores nulos en maestra\n",
    "df_maestra_clean = df_maestra.na.drop()\n",
    "\n",
    "# Eliminar filas con valores nulos en zona\n",
    "df_zona_clean = df_zona.na.drop()\n"
   ]
  },
  {
   "cell_type": "code",
   "execution_count": 7,
   "id": "2b824d24-5fc2-4a1c-b62c-2071398fc73a",
   "metadata": {},
   "outputs": [],
   "source": [
    "# Rellenar con texto en columnas de tipo string\n",
    "df_maestra_filled = df_maestra.na.fill(\"Desconocido\")\n",
    "\n",
    "# Rellenar con 0 en columnas numéricas de df_zona\n",
    "df_zona_filled = df_zona.na.fill(0)\n"
   ]
  },
  {
   "cell_type": "markdown",
   "id": "dd37570d",
   "metadata": {},
   "source": [
    "## Correción de tipo de datos\n"
   ]
  },
  {
   "cell_type": "code",
   "execution_count": 9,
   "id": "a3c25d78-4e3a-4531-acd7-326853a13e91",
   "metadata": {},
   "outputs": [],
   "source": [
    "df_maestra = df_maestra.withColumn(\"Numero de articulo\", col(\"Numero de articulo\").cast(\"int\"))"
   ]
  },
  {
   "cell_type": "code",
   "execution_count": 10,
   "id": "6ed3ae1b-8c09-4cc8-b1a4-52ff2ed055af",
   "metadata": {},
   "outputs": [],
   "source": [
    "df_zona = df_zona.withColumn(\"2025\", col(\"2025\").cast(\"double\")) "
   ]
  },
  {
   "cell_type": "code",
   "execution_count": 16,
   "id": "ea76634a-6b7e-4bcd-acbf-48af46ebeee9",
   "metadata": {},
   "outputs": [],
   "source": [
    "# Filtrado de datos irrelevantes"
   ]
  },
  {
   "cell_type": "code",
   "execution_count": 17,
   "id": "b9ab498a-e2d2-4a86-987c-3da6b6cbd548",
   "metadata": {},
   "outputs": [],
   "source": [
    "df_maestra = df_maestra.filter(col(\"Descripcion\").isNotNull())\n",
    "\n",
    "# Filtrar zonas con ventas registradas en cero\n",
    "df_zona = df_zona.filter(col(\"2025\") > 0)\n"
   ]
  },
  {
   "cell_type": "markdown",
   "id": "668c4772",
   "metadata": {},
   "source": [
    "## Union\n"
   ]
  },
  {
   "cell_type": "code",
   "execution_count": 19,
   "id": "7597c902-1930-4819-adb9-a07e80d64621",
   "metadata": {},
   "outputs": [],
   "source": [
    "from pyspark.sql.functions import col\n",
    "\n",
    "# Unión entre maestra y zona usando Producto\n",
    "df_final = df_maestra.join(\n",
    "    df_zona,\n",
    "    df_maestra[\"Producto\"] == df_zona[\"Producto\"],\n",
    "    how=\"inner\"\n",
    ").drop(df_zona[\"Producto\"])  # elimina la columna duplicada"
   ]
  },
  {
   "cell_type": "code",
   "execution_count": 20,
   "id": "54bba5a1-c28e-4e7e-95d3-5274a5b35145",
   "metadata": {},
   "outputs": [
    {
     "name": "stdout",
     "output_type": "stream",
     "text": [
      "+-----------+------------------+--------------------+-----------+--------------------+-------+---+-------+--------+\n",
      "|   Producto|Numero de articulo|         Descripcion|   Vendedor|      Nombre Cliente|MES NUM|Mes|   2025|CANTIDAD|\n",
      "+-----------+------------------+--------------------+-----------+--------------------+-------+---+-------+--------+\n",
      "|FLUMETOL NF|             40513|FLUMETOL NF OFTEN...|Pharma - N1|BENEL PEREZ,DENNY...|      1|ENE| 898.37|      20|\n",
      "| TRAZIDEX U|             40342|TRAZIDEX UNGENA 3...|Pharma - N1|BENEL PEREZ,DENNY...|      1|ENE|1028.61|      20|\n",
      "|FLUMETOL NF|             40513|FLUMETOL NF OFTEN...|Pharma - N1|BM CLINICA DE OJO...|      1|ENE| 612.53|      15|\n",
      "|       GAAP|             40498|    GAAP OFTENO 3 ML|Pharma - N1|BM CLINICA DE OJO...|      1|ENE|1925.85|      25|\n",
      "| TRAZIDEX O|             40341|TRAZIDEX OFTENO 5...|Pharma - N1|BM CLINICA DE OJO...|      1|ENE| 250.05|       6|\n",
      "| TRAZIDEX U|             40342|TRAZIDEX UNGENA 3...|Pharma - N1|BM CLINICA DE OJO...|      1|ENE| 635.59|       0|\n",
      "| TRAZIDEX U|             40342|TRAZIDEX UNGENA 3...|Pharma - N1|BUENA VISION NORT...|      1|ENE|1028.61|       0|\n",
      "|   AQUADRAN|             41945|        AQUADRAN 10G|Pharma - N1|CARMONA HUAYGUA,K...|      1|ENE|  540.0|       0|\n",
      "| ELIPTIC PF|             41561|ELIPTIC OFTENO 5M...|Pharma - N1|CARMONA HUAYGUA,K...|      1|ENE| 237.76|       0|\n",
      "|  SOPHIPREN|             40338|SOPHIPREN OFTENO ...|Pharma - N1|CARMONA HUAYGUA,K...|      1|ENE| 465.85|       0|\n",
      "|   ZEBESTEN|             41604|   ZEBESTEN 5ML PERU|Pharma - N1|CARMONA HUAYGUA,K...|      1|ENE| 490.88|       0|\n",
      "| ELIPTIC PF|             41561|ELIPTIC OFTENO 5M...|Pharma - N1|CENTRO OFTALMOLOG...|      1|ENE|1144.01|       0|\n",
      "|LAGRICEL PF|             41582|LAGRICEL OFTENO L...|Pharma - N1|CENTRO OFTALMOLOG...|      1|ENE|1249.71|       0|\n",
      "|     LANDAX|             41804|          LANDAX 5ML|Pharma - N1|CENTRO OFTALMOLOG...|      1|ENE|  466.1|       0|\n",
      "| TRAZIDEX O|             40341|TRAZIDEX OFTENO 5...|Pharma - N1|CENTRO OFTALMOLOG...|      1|ENE| 509.36|       0|\n",
      "|   ZEBESTEN|             41604|   ZEBESTEN 5ML PERU|Pharma - N1|CENTRO OFTALMOLOG...|      1|ENE| 981.75|       0|\n",
      "|     AGGLAD|             40351|  AGGLAD OFTENO 5 ML|Pharma - N1|CLINICA DE OJOS G...|      1|ENE| 513.58|       0|\n",
      "| ELIPTIC PF|             41561|ELIPTIC OFTENO 5M...|Pharma - N1|CLINICA DE OJOS G...|      1|ENE| 389.83|      10|\n",
      "|LAGRICEL PF|             41582|LAGRICEL OFTENO L...|Pharma - N1|CLINICA DE OJOS G...|      1|ENE|1981.36|       0|\n",
      "|   ZEBESTEN|             41604|   ZEBESTEN 5ML PERU|Pharma - N1|CLINICA DE OJOS G...|      1|ENE| 490.88|       0|\n",
      "+-----------+------------------+--------------------+-----------+--------------------+-------+---+-------+--------+\n",
      "only showing top 20 rows\n",
      "\n"
     ]
    }
   ],
   "source": [
    "df_final.show()"
   ]
  },
  {
   "cell_type": "markdown",
   "id": "79380a13",
   "metadata": {},
   "source": [
    "## Feature engeeniring"
   ]
  },
  {
   "cell_type": "code",
   "execution_count": 22,
   "id": "2e510f7c-311b-4245-a4b2-d92d8c31d60b",
   "metadata": {},
   "outputs": [],
   "source": [
    "from pyspark.sql.functions import col, count, avg, sum, max, min, when, datediff, current_date\n"
   ]
  },
  {
   "cell_type": "code",
   "execution_count": 23,
   "id": "7d91f41a-0b4a-403c-b7ab-a5954d1a49e9",
   "metadata": {},
   "outputs": [],
   "source": [
    "df_final = df_final.withColumn(\"Precio_Unitario\", \n",
    "                               when(col(\"CANTIDAD\") > 0, col(\"2025\") / col(\"CANTIDAD\")).otherwise(0))"
   ]
  },
  {
   "cell_type": "code",
   "execution_count": 24,
   "id": "9756cd89-1421-40a9-b518-a44d3a25b13f",
   "metadata": {},
   "outputs": [],
   "source": [
    "# 2. Gasto total por cliente\n",
    "gasto_cliente = df_final.groupBy(\"Nombre Cliente\").agg(sum(\"2025\").alias(\"Gasto_Total\"))"
   ]
  },
  {
   "cell_type": "code",
   "execution_count": 25,
   "id": "44971ac0-bf56-4961-8666-c92afbc9feb5",
   "metadata": {},
   "outputs": [],
   "source": [
    "# 3. Cantidad total por cliente\n",
    "cantidad_cliente = df_final.groupBy(\"Nombre Cliente\").agg(sum(\"CANTIDAD\").alias(\"Cantidad_Total\"))"
   ]
  },
  {
   "cell_type": "code",
   "execution_count": 26,
   "id": "9e04481e-2fdc-4b43-a0bb-1861bc1f1119",
   "metadata": {},
   "outputs": [],
   "source": [
    "# 4. Promedio de gasto y cantidad por cliente\n",
    "promedios_cliente = df_final.groupBy(\"Nombre Cliente\").agg(\n",
    "    avg(\"2025\").alias(\"Gasto_Promedio\"),\n",
    "    avg(\"CANTIDAD\").alias(\"Cantidad_Promedio\")\n",
    ")\n",
    "\n",
    "# 5. Frecuencia de compra por cliente (número de transacciones)\n",
    "frecuencia_cliente = df_final.groupBy(\"Nombre Cliente\").agg(\n",
    "    count(\"Producto\").alias(\"Frecuencia_Compra\")\n",
    ")\n",
    "\n",
    "# 6. Última compra (para calcular recencia)\n",
    "ultima_compra = df_final.groupBy(\"Nombre Cliente\").agg(\n",
    "    max(\"MES NUM\").alias(\"Ultimo_Mes\")\n",
    ")"
   ]
  },
  {
   "cell_type": "code",
   "execution_count": 27,
   "id": "2ce6800f-ce0f-46a4-9629-e7a2daf4fbaa",
   "metadata": {},
   "outputs": [
    {
     "name": "stdout",
     "output_type": "stream",
     "text": [
      "+-----------------------------------------+------------------+--------------+------------------+------------------+-----------------+----------+\n",
      "|Nombre Cliente                           |Gasto_Total       |Cantidad_Total|Gasto_Promedio    |Cantidad_Promedio |Frecuencia_Compra|Ultimo_Mes|\n",
      "+-----------------------------------------+------------------+--------------+------------------+------------------+-----------------+----------+\n",
      "|CLINICA SAN FELIPE S A                   |21985.35          |700.0         |1099.2675         |35.0              |20               |7         |\n",
      "|GOOD VISION E.I.R.L.                     |572.59            |12.0          |572.59            |12.0              |1                |3         |\n",
      "|FONDO DE EMPLEADOS DEL BANCO DE LA NACION|8872.98           |229.0         |2957.66           |76.33333333333333 |3                |3         |\n",
      "|CONSORCIO QORITAQQUE B Y T S.R.L.        |1427.8200000000002|29.0          |475.94000000000005|9.666666666666666 |3                |2         |\n",
      "|ETHIC FARMACIA SAC                       |439.88            |6.0           |146.62666666666667|2.0               |3                |3         |\n",
      "|CENTRO DE CATARATA Y LASER E.I.R.L.      |77435.25          |1720.0        |2092.8445945945946|46.486486486486484|37               |6         |\n",
      "|AAA SAC                                  |35454.700000000004|720.0         |2954.558333333334 |60.0              |12               |5         |\n",
      "|HOSPITAL METROPOLITANO SOCIEDAD ANONIMA  |9518.95           |160.0         |500.99736842105267|8.421052631578947 |19               |6         |\n",
      "|RUIZ VIGO JORGE EDUARDO                  |2760.26           |54.0          |552.052           |10.8              |5                |5         |\n",
      "|OFTALMORETINA S.A.C.                     |1990.51           |36.0          |331.75166666666667|6.0               |6                |6         |\n",
      "+-----------------------------------------+------------------+--------------+------------------+------------------+-----------------+----------+\n",
      "only showing top 10 rows\n",
      "\n"
     ]
    }
   ],
   "source": [
    "# Combinar todas las features\n",
    "features = gasto_cliente \\\n",
    "    .join(cantidad_cliente, \"Nombre Cliente\") \\\n",
    "    .join(promedios_cliente, \"Nombre Cliente\") \\\n",
    "    .join(frecuencia_cliente, \"Nombre Cliente\") \\\n",
    "    .join(ultima_compra, \"Nombre Cliente\")\n",
    "\n",
    "# Mostrar resultado\n",
    "features.show(10, truncate=False)"
   ]
  },
  {
   "cell_type": "code",
   "execution_count": null,
   "id": "99ae9022-0bc7-47ff-b80c-f21445f8cd82",
   "metadata": {},
   "outputs": [],
   "source": [
    "##############################"
   ]
  }
 ],
 "metadata": {
  "kernelspec": {
   "display_name": "Python 3 (ipykernel)",
   "language": "python",
   "name": "python3"
  },
  "language_info": {
   "codemirror_mode": {
    "name": "ipython",
    "version": 3
   },
   "file_extension": ".py",
   "mimetype": "text/x-python",
   "name": "python",
   "nbconvert_exporter": "python",
   "pygments_lexer": "ipython3",
   "version": "3.11.2"
  }
 },
 "nbformat": 4,
 "nbformat_minor": 5
}
