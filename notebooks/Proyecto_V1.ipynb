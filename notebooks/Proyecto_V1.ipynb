{
 "cells": [
  {
   "cell_type": "markdown",
   "id": "a1d21414",
   "metadata": {},
   "source": [
    "## Cargar Dataframes\n"
   ]
  },
  {
   "cell_type": "code",
   "execution_count": 1,
   "id": "302d8405-950e-471e-a617-1fba0f702cf6",
   "metadata": {},
   "outputs": [],
   "source": [
    "from pyspark.sql import SparkSession\n",
    "from pyspark.sql.functions import expr, col, lit\n",
    "from pyspark.sql.functions import col, count, avg, sum, max, min, when, datediff, current_date\n",
    "import re"
   ]
  },
  {
   "cell_type": "code",
   "execution_count": 2,
   "id": "68beafd5-89fd-48f8-b1c6-c2e99d8bdcc6",
   "metadata": {},
   "outputs": [
    {
     "name": "stderr",
     "output_type": "stream",
     "text": [
      "Setting default log level to \"WARN\".\n",
      "To adjust logging level use sc.setLogLevel(newLevel). For SparkR, use setLogLevel(newLevel).\n",
      "25/09/30 19:46:33 WARN NativeCodeLoader: Unable to load native-hadoop library for your platform... using builtin-java classes where applicable\n"
     ]
    }
   ],
   "source": [
    "# ==============================\n",
    "# 1. Inicializar Spark Session\n",
    "# ==============================\n",
    "spark = SparkSession.builder \\\n",
    "    .appName(\"HDFS_NiFi_Data_Cleaning\") \\\n",
    "    .config(\"spark.hadoop.fs.defaultFS\", \"hdfs://namenode:9000\") \\\n",
    "    .getOrCreate()"
   ]
  },
  {
   "cell_type": "code",
   "execution_count": 3,
   "id": "ed1bd447-c5df-4f58-8b0c-09c770673336",
   "metadata": {},
   "outputs": [],
   "source": [
    "# ==============================\n",
    "# 2. Paths en HDFS\n",
    "# ==============================\n",
    "hdfs_path_maestra = \"hdfs://namenode:9000/user/nifi/maestra.csv\"\n",
    "hdfs_path_zona = \"hdfs://namenode:9000/user/nifi/bd_zona.csv\"\n",
    "\n",
    "file_familia = \"/user/nifi/Resumen_Valores-VENTA_POR_FAMILIA2.csv\"\n",
    "file_producto = \"/user/nifi/Resumen_Valores-VENTA_POR_PRODUCTO2.csv\""
   ]
  },
  {
   "cell_type": "code",
   "execution_count": 4,
   "id": "ea7f3fef-a7c0-406a-8213-f92f9152e537",
   "metadata": {},
   "outputs": [
    {
     "name": "stdout",
     "output_type": "stream",
     "text": [
      "+-----------+------------------+-------------------------------------------------+\n",
      "|Producto   |Numero de articulo|Descripcion                                      |\n",
      "+-----------+------------------+-------------------------------------------------+\n",
      "|LAGRICEL PF|41582             |LAGRICEL OFTENO LIBRE DE CONSERVADORES (PF) 10 ML|\n",
      "|ELIPTIC PF |41561             |ELIPTIC OFTENO 5ML PF PERU                       |\n",
      "|LAGRICEL   |40515             |LAGRICEL OFTENO 0.5 ML                           |\n",
      "|FLUMETOL NF|40513             |FLUMETOL NF OFTENO 5ML                           |\n",
      "|TRAZIDEX O |40341             |TRAZIDEX OFTENO 5 ML.                            |\n",
      "|TRAZIDEX U |40342             |TRAZIDEX UNGENA 3.5 G                            |\n",
      "|SOPHIPREN  |40338             |SOPHIPREN OFTENO 5 ML                            |\n",
      "|GAAP       |40498             |GAAP OFTENO 3 ML                                 |\n",
      "|AQUADRAN   |41945             |AQUADRAN 10G                                     |\n",
      "|GAAP PF    |41567             |GAAP OFTENO LIBRE DE CONSER PF 3 ML PERU         |\n",
      "|ZEBESTEN   |41604             |ZEBESTEN 5ML PERU                                |\n",
      "|LANDAX     |41804             |LANDAX 5ML                                       |\n",
      "|ELAR-B     |42098             |ELAR-B 5 ML                                      |\n",
      "|DUSTALOX   |41121             |DUSTALOX 5ML                                     |\n",
      "|ELIPTIC    |41076             |ELIPTIC OFTENO 5ML                               |\n",
      "|AGGLAD     |40351             |AGGLAD OFTENO 5 ML                               |\n",
      "+-----------+------------------+-------------------------------------------------+\n",
      "\n"
     ]
    }
   ],
   "source": [
    "# Primer CSV\n",
    "df_maestra = spark.read.csv(hdfs_path_maestra, header=True, inferSchema=True, sep=\";\")\n",
    "df_maestra.show(truncate=False)"
   ]
  },
  {
   "cell_type": "code",
   "execution_count": 5,
   "id": "8a3c73a8-75d1-4dcb-9d2d-e59b2a7531e5",
   "metadata": {},
   "outputs": [
    {
     "name": "stdout",
     "output_type": "stream",
     "text": [
      "+-----------+-----------------------------------------------------------------+-----------+-------+---+-------+--------+\n",
      "|Vendedor   |Nombre Cliente                                                   |Producto   |MES NUM|Mes|2025   |CANTIDAD|\n",
      "+-----------+-----------------------------------------------------------------+-----------+-------+---+-------+--------+\n",
      "|Pharma - N1|ADMINISTRADORA CLINICA TRESA S.A                                 |AGGLAD     |1      |ENE|0      |0       |\n",
      "|Pharma - N1|ADMINISTRADORA CLINICA TRESA S.A                                 |FLUMETOL NF|1      |ENE|0      |0       |\n",
      "|Pharma - N1|ADMINISTRADORA CLINICA TRESA S.A                                 |GAAP       |1      |ENE|0      |0       |\n",
      "|Pharma - N1|ADMINISTRADORA CLINICA TRESA S.A                                 |LAGRICEL   |1      |ENE|0      |0       |\n",
      "|Pharma - N1|BENEL PEREZ,DENNY JAVIER                                         |FLUMETOL NF|1      |ENE|898.37 |20      |\n",
      "|Pharma - N1|BENEL PEREZ,DENNY JAVIER                                         |TRAZIDEX U |1      |ENE|1028.61|20      |\n",
      "|Pharma - N1|BM CLINICA DE OJOS S.A.C.                                        |FLUMETOL NF|1      |ENE|612.53 |15      |\n",
      "|Pharma - N1|BM CLINICA DE OJOS S.A.C.                                        |GAAP       |1      |ENE|1925.85|25      |\n",
      "|Pharma - N1|BM CLINICA DE OJOS S.A.C.                                        |TRAZIDEX O |1      |ENE|250.05 |6       |\n",
      "|Pharma - N1|BM CLINICA DE OJOS S.A.C.                                        |TRAZIDEX U |1      |ENE|635.59 |0       |\n",
      "|Pharma - N1|BUENA VISION NORTE EMPRESA INDIVIDUAL DE RESPONSABILIDAD LIMITADA|TRAZIDEX U |1      |ENE|1028.61|0       |\n",
      "|Pharma - N1|CARMONA HUAYGUA,KARLA FABIOLA                                    |AQUADRAN   |1      |ENE|540    |0       |\n",
      "|Pharma - N1|CARMONA HUAYGUA,KARLA FABIOLA                                    |ELIPTIC PF |1      |ENE|237.76 |0       |\n",
      "|Pharma - N1|CARMONA HUAYGUA,KARLA FABIOLA                                    |SOPHIPREN  |1      |ENE|465.85 |0       |\n",
      "|Pharma - N1|CARMONA HUAYGUA,KARLA FABIOLA                                    |ZEBESTEN   |1      |ENE|490.88 |0       |\n",
      "|Pharma - N1|CENTRO MEDICO VIDAVA'S S.A.C.                                    |AGGLAD     |1      |ENE|0      |0       |\n",
      "|Pharma - N1|CENTRO MEDICO VIDAVA'S S.A.C.                                    |AQUADRAN   |1      |ENE|0      |0       |\n",
      "|Pharma - N1|CENTRO MEDICO VIDAVA'S S.A.C.                                    |ZEBESTEN   |1      |ENE|0      |0       |\n",
      "|Pharma - N1|CENTRO OFTALMOLOGICO NOBA VISION E.I.R.L.                        |ELIPTIC PF |1      |ENE|1144.01|0       |\n",
      "|Pharma - N1|CENTRO OFTALMOLOGICO NOBA VISION E.I.R.L.                        |LAGRICEL PF|1      |ENE|1249.71|0       |\n",
      "+-----------+-----------------------------------------------------------------+-----------+-------+---+-------+--------+\n",
      "only showing top 20 rows\n",
      "\n"
     ]
    }
   ],
   "source": [
    "# Segundo CSV\n",
    "df_zona = spark.read.csv(hdfs_path_zona, header=True, inferSchema=True, sep=\";\")\n",
    "df_zona.show(truncate=False)"
   ]
  },
  {
   "cell_type": "markdown",
   "id": "285e5a23-3f2c-47c5-a765-245c88a69a5e",
   "metadata": {},
   "source": [
    "### Corrección y adaptación de resumen de valores y unidades\n"
   ]
  },
  {
   "cell_type": "code",
   "execution_count": 6,
   "id": "18625a4f-6f3a-41b7-8b0c-31823f1b75e5",
   "metadata": {},
   "outputs": [],
   "source": [
    "def rename_month_columns(df):\n",
    "    \"\"\"\n",
    "    Renombra los bloques de columnas por mes con las métricas:\n",
    "    Venta, TGT, PY24, pct\n",
    "    \"\"\"\n",
    "    meses = [\"Enero\",\"Febrero\",\"Marzo\",\"Abril\",\"Mayo\",\"Junio\",\n",
    "             \"Julio\",\"Agosto\",\"Septiembre\",\"Octubre\",\"Noviembre\",\"Diciembre\",\"YTD_JUL\"]\n",
    "    metricas = [\"Venta\",\"TGT\",\"PY24\",\"pct\"]\n",
    "\n",
    "    new_cols = [\"Producto_Familia\"]  # primera columna fija\n",
    "    col_idx = 1  # empezamos después de Producto_Familia\n",
    "\n",
    "    for mes in meses:\n",
    "        for metrica in metricas:\n",
    "            if col_idx < len(df.columns):\n",
    "                new_cols.append(f\"{mes}_{metrica}\")\n",
    "                col_idx += 1\n",
    "\n",
    "    # Si sobran columnas (por ruido en el CSV), las nombramos Extra\n",
    "    while len(new_cols) < len(df.columns):\n",
    "        new_cols.append(f\"Extra_{len(new_cols)}\")\n",
    "\n",
    "    return df.toDF(*new_cols)"
   ]
  },
  {
   "cell_type": "code",
   "execution_count": 7,
   "id": "00321cef-6e59-4d3b-a013-a16ac2a4c74e",
   "metadata": {},
   "outputs": [],
   "source": [
    "def load_and_clean(path):\n",
    "    # ============================\n",
    "    # 1. Leer CSV sin header\n",
    "    # ============================\n",
    "    df = spark.read.option(\"sep\", \";\").option(\"header\", \"false\").csv(path)\n",
    "\n",
    "    # ============================\n",
    "    # 2. Tomar primera fila como header real\n",
    "    # ============================\n",
    "    header_row = df.first()\n",
    "\n",
    "    # ============================\n",
    "    # 3. Filtrar esa fila del dataframe\n",
    "    # ============================\n",
    "    df = df.filter(col(\"_c0\") != header_row[0])\n",
    "\n",
    "    # ============================\n",
    "    # 4. Columnas temporales\n",
    "    # ============================\n",
    "    tmp_headers = [f\"Col_{i}\" for i in range(len(df.columns))]\n",
    "    df = df.toDF(*tmp_headers)\n",
    "\n",
    "    # ============================\n",
    "    # 5. Renombrar columnas a Mes_Métrica\n",
    "    # ============================\n",
    "    df = rename_month_columns(df)\n",
    "\n",
    "    return df"
   ]
  },
  {
   "cell_type": "code",
   "execution_count": 8,
   "id": "513473d9-19b0-43eb-a1c9-e1ee50605923",
   "metadata": {},
   "outputs": [
    {
     "name": "stderr",
     "output_type": "stream",
     "text": [
      "25/09/30 19:46:53 WARN package: Truncated the string representation of a plan since it was too large. This behavior can be adjusted by setting 'spark.sql.debug.maxToStringFields'.\n"
     ]
    }
   ],
   "source": [
    "# ==============================\n",
    "# 6. Aplicar función\n",
    "# ==============================\n",
    "df_familia = load_and_clean(file_familia)\n",
    "df_producto = load_and_clean(file_producto)"
   ]
  },
  {
   "cell_type": "code",
   "execution_count": 9,
   "id": "09d52a43-ca4a-457d-bfeb-508c146123c2",
   "metadata": {},
   "outputs": [
    {
     "name": "stdout",
     "output_type": "stream",
     "text": [
      "root\n",
      " |-- Producto_Familia: string (nullable = true)\n",
      " |-- Enero_Venta: string (nullable = true)\n",
      " |-- Enero_TGT: string (nullable = true)\n",
      " |-- Enero_PY24: string (nullable = true)\n",
      " |-- Enero_pct: string (nullable = true)\n",
      " |-- Febrero_Venta: string (nullable = true)\n",
      " |-- Febrero_TGT: string (nullable = true)\n",
      " |-- Febrero_PY24: string (nullable = true)\n",
      " |-- Febrero_pct: string (nullable = true)\n",
      " |-- Marzo_Venta: string (nullable = true)\n",
      " |-- Marzo_TGT: string (nullable = true)\n",
      " |-- Marzo_PY24: string (nullable = true)\n",
      " |-- Marzo_pct: string (nullable = true)\n",
      " |-- Abril_Venta: string (nullable = true)\n",
      " |-- Abril_TGT: string (nullable = true)\n",
      " |-- Abril_PY24: string (nullable = true)\n",
      " |-- Abril_pct: string (nullable = true)\n",
      " |-- Mayo_Venta: string (nullable = true)\n",
      " |-- Mayo_TGT: string (nullable = true)\n",
      " |-- Mayo_PY24: string (nullable = true)\n",
      " |-- Mayo_pct: string (nullable = true)\n",
      " |-- Junio_Venta: string (nullable = true)\n",
      " |-- Junio_TGT: string (nullable = true)\n",
      " |-- Junio_PY24: string (nullable = true)\n",
      " |-- Junio_pct: string (nullable = true)\n",
      " |-- Julio_Venta: string (nullable = true)\n",
      " |-- Julio_TGT: string (nullable = true)\n",
      " |-- Julio_PY24: string (nullable = true)\n",
      " |-- Julio_pct: string (nullable = true)\n",
      " |-- Agosto_Venta: string (nullable = true)\n",
      " |-- Agosto_TGT: string (nullable = true)\n",
      " |-- Agosto_PY24: string (nullable = true)\n",
      " |-- Agosto_pct: string (nullable = true)\n",
      " |-- Septiembre_Venta: string (nullable = true)\n",
      " |-- Septiembre_TGT: string (nullable = true)\n",
      " |-- Septiembre_PY24: string (nullable = true)\n",
      " |-- Septiembre_pct: string (nullable = true)\n",
      " |-- Octubre_Venta: string (nullable = true)\n",
      " |-- Octubre_TGT: string (nullable = true)\n",
      " |-- Octubre_PY24: string (nullable = true)\n",
      " |-- Octubre_pct: string (nullable = true)\n",
      " |-- Noviembre_Venta: string (nullable = true)\n",
      " |-- Noviembre_TGT: string (nullable = true)\n",
      " |-- Noviembre_PY24: string (nullable = true)\n",
      " |-- Noviembre_pct: string (nullable = true)\n",
      " |-- Diciembre_Venta: string (nullable = true)\n",
      " |-- Diciembre_TGT: string (nullable = true)\n",
      " |-- Diciembre_PY24: string (nullable = true)\n",
      " |-- Diciembre_pct: string (nullable = true)\n",
      " |-- YTD_JUL_Venta: string (nullable = true)\n",
      " |-- YTD_JUL_TGT: string (nullable = true)\n",
      " |-- YTD_JUL_PY24: string (nullable = true)\n",
      " |-- YTD_JUL_pct: string (nullable = true)\n",
      "\n",
      "root\n",
      " |-- Producto_Familia: string (nullable = true)\n",
      " |-- Enero_Venta: string (nullable = true)\n",
      " |-- Enero_TGT: string (nullable = true)\n",
      " |-- Enero_PY24: string (nullable = true)\n",
      " |-- Enero_pct: string (nullable = true)\n",
      " |-- Febrero_Venta: string (nullable = true)\n",
      " |-- Febrero_TGT: string (nullable = true)\n",
      " |-- Febrero_PY24: string (nullable = true)\n",
      " |-- Febrero_pct: string (nullable = true)\n",
      " |-- Marzo_Venta: string (nullable = true)\n",
      " |-- Marzo_TGT: string (nullable = true)\n",
      " |-- Marzo_PY24: string (nullable = true)\n",
      " |-- Marzo_pct: string (nullable = true)\n",
      " |-- Abril_Venta: string (nullable = true)\n",
      " |-- Abril_TGT: string (nullable = true)\n",
      " |-- Abril_PY24: string (nullable = true)\n",
      " |-- Abril_pct: string (nullable = true)\n",
      " |-- Mayo_Venta: string (nullable = true)\n",
      " |-- Mayo_TGT: string (nullable = true)\n",
      " |-- Mayo_PY24: string (nullable = true)\n",
      " |-- Mayo_pct: string (nullable = true)\n",
      " |-- Junio_Venta: string (nullable = true)\n",
      " |-- Junio_TGT: string (nullable = true)\n",
      " |-- Junio_PY24: string (nullable = true)\n",
      " |-- Junio_pct: string (nullable = true)\n",
      " |-- Julio_Venta: string (nullable = true)\n",
      " |-- Julio_TGT: string (nullable = true)\n",
      " |-- Julio_PY24: string (nullable = true)\n",
      " |-- Julio_pct: string (nullable = true)\n",
      " |-- Agosto_Venta: string (nullable = true)\n",
      " |-- Agosto_TGT: string (nullable = true)\n",
      " |-- Agosto_PY24: string (nullable = true)\n",
      " |-- Agosto_pct: string (nullable = true)\n",
      " |-- Septiembre_Venta: string (nullable = true)\n",
      " |-- Septiembre_TGT: string (nullable = true)\n",
      " |-- Septiembre_PY24: string (nullable = true)\n",
      " |-- Septiembre_pct: string (nullable = true)\n",
      " |-- Octubre_Venta: string (nullable = true)\n",
      " |-- Octubre_TGT: string (nullable = true)\n",
      " |-- Octubre_PY24: string (nullable = true)\n",
      " |-- Octubre_pct: string (nullable = true)\n",
      " |-- Noviembre_Venta: string (nullable = true)\n",
      " |-- Noviembre_TGT: string (nullable = true)\n",
      " |-- Noviembre_PY24: string (nullable = true)\n",
      " |-- Noviembre_pct: string (nullable = true)\n",
      " |-- Diciembre_Venta: string (nullable = true)\n",
      " |-- Diciembre_TGT: string (nullable = true)\n",
      " |-- Diciembre_PY24: string (nullable = true)\n",
      " |-- Diciembre_pct: string (nullable = true)\n",
      " |-- YTD_JUL_Venta: string (nullable = true)\n",
      " |-- YTD_JUL_TGT: string (nullable = true)\n",
      " |-- YTD_JUL_PY24: string (nullable = true)\n",
      " |-- YTD_JUL_pct: string (nullable = true)\n",
      "\n"
     ]
    }
   ],
   "source": [
    "df_familia.printSchema()\n",
    "df_producto.printSchema()"
   ]
  },
  {
   "cell_type": "code",
   "execution_count": 10,
   "id": "1c107acb-abc2-4d39-801b-eb3297415e17",
   "metadata": {},
   "outputs": [],
   "source": [
    "# De forma alargada\n",
    "from pyspark.sql.functions import expr, regexp_extract, first\n",
    "from pyspark.sql import functions as F\n",
    "\n",
    "def unpivot_to_wide(df):\n",
    "    id_col = \"Producto_Familia\"\n",
    "    value_cols = [c for c in df.columns if c != id_col]\n",
    "\n",
    "    # Crear expresión stack dinámicamente\n",
    "    expr_str = \"stack({0}, {1}) as (Columna, Valor)\".format(\n",
    "        len(value_cols),\n",
    "        \",\".join([f\"'{c}', {c}\" for c in value_cols])\n",
    "    )\n",
    "\n",
    "    # Expandir a formato largo\n",
    "    df_long = df.select(id_col, expr(expr_str))\n",
    "\n",
    "    # Separar Mes y Métrica\n",
    "    df_long = df_long.withColumn(\"Mes\", regexp_extract(\"Columna\", r\"^(.*)_(Venta|TGT|PY24|pct)$\", 1)) \\\n",
    "                     .withColumn(\"Metrica\", regexp_extract(\"Columna\", r\"^(.*)_(Venta|TGT|PY24|pct)$\", 2)) \\\n",
    "                     .drop(\"Columna\")\n",
    "\n",
    "    # Pivotear: convertir Métrica en columnas\n",
    "    df_wide = df_long.groupBy(id_col, \"Mes\").pivot(\"Metrica\").agg(F.first(\"Valor\"))\n",
    "\n",
    "    return df_wide\n"
   ]
  },
  {
   "cell_type": "code",
   "execution_count": 11,
   "id": "b539f129-81f5-4c99-8963-15210b68193d",
   "metadata": {},
   "outputs": [
    {
     "name": "stdout",
     "output_type": "stream",
     "text": [
      "=== Familia ===\n",
      "+----------------+----------+---------+-----------+---------+-----------+\n",
      "|Producto_Familia|Mes       |PY24     |TGT        |Venta    |pct        |\n",
      "+----------------+----------+---------+-----------+---------+-----------+\n",
      "|AGGLAD          |Abril     |24635.46 |120891.2407|91519.9  |0.757043269|\n",
      "|AGGLAD          |Agosto    |25769.42 |2560.845455|0.0      |0.0        |\n",
      "|AGGLAD          |Diciembre |71802.0  |2681.545455|0.0      |0.0        |\n",
      "|AGGLAD          |Enero     |22534.35 |110094.81  |110094.81|1.0        |\n",
      "|AGGLAD          |Febrero   |31785.06 |114546.1364|110784.62|0.96716156 |\n",
      "|AGGLAD          |Julio     |29784.66 |133581.4492|18240.65 |0.136550772|\n",
      "|AGGLAD          |Junio     |20271.95 |120891.2407|92445.3  |0.764698083|\n",
      "|AGGLAD          |Marzo     |31785.06 |114546.1364|81102.53 |0.708033745|\n",
      "|AGGLAD          |Mayo      |26193.67 |120891.2407|80999.82 |0.670022241|\n",
      "|AGGLAD          |Noviembre |52414.29 |2681.545455|0.0      |0.0        |\n",
      "|AGGLAD          |Octubre   |20463.2  |2681.545455|0.0      |0.0        |\n",
      "|AGGLAD          |Septiembre|32943.44 |2560.845455|0.0      |0.0        |\n",
      "|AGGLAD          |YTD_JUL   |186990.21|835442.2541|585187.63|0.700452517|\n",
      "|AQUADRAN        |Abril     |18754.2  |35738.51318|48886.2  |1.367885669|\n",
      "|AQUADRAN        |Agosto    |21054.6  |734.9681818|0.0      |0.0        |\n",
      "|AQUADRAN        |Diciembre |18198.0  |770.8181818|0.0      |0.0        |\n",
      "|AQUADRAN        |Enero     |3348.0   |44517.6    |44517.6  |1.0        |\n",
      "|AQUADRAN        |Febrero   |13176.0  |33810.57818|34954.2  |1.033824379|\n",
      "|AQUADRAN        |Julio     |19218.6  |39594.38318|5292.0   |0.133655321|\n",
      "|AQUADRAN        |Junio     |15957.0  |35738.51318|47521.3  |1.329694376|\n",
      "+----------------+----------+---------+-----------+---------+-----------+\n",
      "only showing top 20 rows\n",
      "\n",
      "=== Producto ===\n",
      "+----------------+----------+---------+-----------+---------+------------+\n",
      "|Producto_Familia|Mes       |PY24     |TGT        |Venta    |pct         |\n",
      "+----------------+----------+---------+-----------+---------+------------+\n",
      "|AGGLAD          |Abril     |24635.46 |120891.2407|91519.9  |0.757043269 |\n",
      "|AGGLAD          |Agosto    |25769.42 |2560.845455|0.0      |-1.0        |\n",
      "|AGGLAD          |Diciembre |71802.0  |2681.545455|0.0      |-1.0        |\n",
      "|AGGLAD          |Enero     |22534.35 |110094.81  |110094.81|1.0         |\n",
      "|AGGLAD          |Febrero   |31785.06 |114546.1364|110784.62|0.96716156  |\n",
      "|AGGLAD          |Julio     |29784.66 |133581.4492|18240.65 |-0.863449228|\n",
      "|AGGLAD          |Junio     |20271.95 |120891.2407|92445.3  |-0.235301917|\n",
      "|AGGLAD          |Marzo     |31785.06 |114546.1364|81102.53 |0.708033745 |\n",
      "|AGGLAD          |Mayo      |26193.67 |120891.2407|80999.82 |0.670022241 |\n",
      "|AGGLAD          |Noviembre |52414.29 |2681.545455|0.0      |-1.0        |\n",
      "|AGGLAD          |Octubre   |20463.2  |2681.545455|0.0      |-1.0        |\n",
      "|AGGLAD          |Septiembre|32943.44 |2560.845455|0.0      |-1.0        |\n",
      "|AGGLAD          |YTD_JUL   |186990.21|835442.2541|585187.63|0.700452517 |\n",
      "|AQUADRAN        |Abril     |18754.2  |35738.51318|48886.2  |1.367885669 |\n",
      "|AQUADRAN        |Agosto    |21054.6  |734.9681818|0.0      |-1.0        |\n",
      "|AQUADRAN        |Diciembre |18198.0  |770.8181818|0.0      |-1.0        |\n",
      "|AQUADRAN        |Enero     |3348.0   |44517.6    |44517.6  |1.0         |\n",
      "|AQUADRAN        |Febrero   |13176.0  |33810.57818|34954.2  |1.033824379 |\n",
      "|AQUADRAN        |Julio     |19218.6  |39594.38318|5292.0   |-0.866344679|\n",
      "|AQUADRAN        |Junio     |15957.0  |35738.51318|47521.3  |0.329694376 |\n",
      "+----------------+----------+---------+-----------+---------+------------+\n",
      "only showing top 20 rows\n",
      "\n"
     ]
    }
   ],
   "source": [
    "from pyspark.sql.functions import col\n",
    "\n",
    "# Quitar la fila \"Producto\"\n",
    "df_familia_clean = df_familia.filter(df_familia[\"Producto_Familia\"] != \"Producto\")\n",
    "df_producto_clean = df_producto.filter(df_producto[\"Producto_Familia\"] != \"Producto\")\n",
    "\n",
    "# Aplicar unpivot corregido (con pivot final)\n",
    "df_familia_wide = unpivot_to_wide(df_familia_clean)\n",
    "df_producto_wide = unpivot_to_wide(df_producto_clean)\n",
    "\n",
    "# Convertir columnas numéricas a double\n",
    "num_cols = [\"Venta\", \"TGT\", \"PY24\", \"pct\"]\n",
    "\n",
    "for c in num_cols:\n",
    "    df_familia_wide = df_familia_wide.withColumn(c, col(c).cast(\"double\"))\n",
    "    df_producto_wide = df_producto_wide.withColumn(c, col(c).cast(\"double\"))\n",
    "\n",
    "# Mostrar resultados\n",
    "print(\"=== Familia ===\")\n",
    "df_familia_wide.show(20, truncate=False)\n",
    "\n",
    "print(\"=== Producto ===\")\n",
    "df_producto_wide.show(20, truncate=False)\n"
   ]
  },
  {
   "cell_type": "code",
   "execution_count": 12,
   "id": "57d55c49-2183-4995-af84-f80feaeec728",
   "metadata": {},
   "outputs": [],
   "source": [
    "from pyspark.sql.functions import trim, upper\n",
    "\n",
    "# Normalizar columna Mes en ambos dataframes\n",
    "df_familia_wide = df_familia_wide.withColumn(\"Mes\", trim(upper(df_familia_wide[\"Mes\"])))\n",
    "df_producto_wide = df_producto_wide.withColumn(\"Mes\", trim(upper(df_producto_wide[\"Mes\"])))"
   ]
  },
  {
   "cell_type": "code",
   "execution_count": 13,
   "id": "33797594-1b1b-4e92-a6ce-f6e61cf28631",
   "metadata": {},
   "outputs": [],
   "source": [
    "from pyspark.sql.functions import when, col\n",
    "\n",
    "# Lista de métricas a convertir\n",
    "metricas = [\"Venta\", \"TGT\", \"PY24\", \"pct\"]\n",
    "\n",
    "# Familia\n",
    "for m in metricas:\n",
    "    df_familia_wide = df_familia_wide.withColumn(\n",
    "        m,\n",
    "        when(col(m).isNull(), 0.0).otherwise(col(m).cast(\"double\"))\n",
    "    )\n",
    "\n",
    "# Producto\n",
    "for m in metricas:\n",
    "    df_producto_wide = df_producto_wide.withColumn(\n",
    "        m,\n",
    "        when(col(m).isNull(), 0.0).otherwise(col(m).cast(\"double\"))\n",
    "    )"
   ]
  },
  {
   "cell_type": "code",
   "execution_count": 14,
   "id": "62518621-d4da-4a8a-9d31-7df274a0a6d8",
   "metadata": {},
   "outputs": [],
   "source": [
    "from pyspark.sql.functions import lit\n",
    "\n",
    "# Agregar columna de nivel\n",
    "df_familia_wide = df_familia_wide.withColumn(\"Nivel\", lit(\"Familia\"))\n",
    "df_producto_wide = df_producto_wide.withColumn(\"Nivel\", lit(\"Producto\"))\n",
    "\n",
    "# Unir ambos datasets\n",
    "df_total = (\n",
    "    df_familia_wide\n",
    "    .unionByName(df_producto_wide, allowMissingColumns=True)\n",
    ")"
   ]
  },
  {
   "cell_type": "code",
   "execution_count": 15,
   "id": "b62624af-614f-4bb5-967a-2d6b2a44f778",
   "metadata": {},
   "outputs": [
    {
     "name": "stdout",
     "output_type": "stream",
     "text": [
      "+----------------+----------+----------+-----------+---------+-----------+-------+\n",
      "|Producto_Familia|Mes       |PY24      |TGT        |Venta    |pct        |Nivel  |\n",
      "+----------------+----------+----------+-----------+---------+-----------+-------+\n",
      "|AGGLAD          |ABRIL     |24635.46  |120891.2407|91519.9  |0.757043269|Familia|\n",
      "|AGGLAD          |AGOSTO    |25769.42  |2560.845455|0.0      |0.0        |Familia|\n",
      "|AGGLAD          |DICIEMBRE |71802.0   |2681.545455|0.0      |0.0        |Familia|\n",
      "|AGGLAD          |ENERO     |22534.35  |110094.81  |110094.81|1.0        |Familia|\n",
      "|AGGLAD          |FEBRERO   |31785.06  |114546.1364|110784.62|0.96716156 |Familia|\n",
      "|AGGLAD          |JULIO     |29784.66  |133581.4492|18240.65 |0.136550772|Familia|\n",
      "|AGGLAD          |JUNIO     |20271.95  |120891.2407|92445.3  |0.764698083|Familia|\n",
      "|AGGLAD          |MARZO     |31785.06  |114546.1364|81102.53 |0.708033745|Familia|\n",
      "|AGGLAD          |MAYO      |26193.67  |120891.2407|80999.82 |0.670022241|Familia|\n",
      "|AGGLAD          |NOVIEMBRE |52414.29  |2681.545455|0.0      |0.0        |Familia|\n",
      "|AGGLAD          |OCTUBRE   |20463.2   |2681.545455|0.0      |0.0        |Familia|\n",
      "|AGGLAD          |SEPTIEMBRE|32943.44  |2560.845455|0.0      |0.0        |Familia|\n",
      "|AGGLAD          |YTD_JUL   |186990.21 |835442.2541|585187.63|0.700452517|Familia|\n",
      "|AQUADRAN        |ABRIL     |18754.2   |35738.51318|48886.2  |1.367885669|Familia|\n",
      "|AQUADRAN        |AGOSTO    |21054.6   |734.9681818|0.0      |0.0        |Familia|\n",
      "|AQUADRAN        |DICIEMBRE |18198.0   |770.8181818|0.0      |0.0        |Familia|\n",
      "|AQUADRAN        |ENERO     |3348.0    |44517.6    |44517.6  |1.0        |Familia|\n",
      "|AQUADRAN        |FEBRERO   |13176.0   |33810.57818|34954.2  |1.033824379|Familia|\n",
      "|AQUADRAN        |JULIO     |19218.6   |39594.38318|5292.0   |0.133655321|Familia|\n",
      "|AQUADRAN        |JUNIO     |15957.0   |35738.51318|47521.3  |1.329694376|Familia|\n",
      "|AQUADRAN        |MARZO     |13176.0   |33810.57818|43507.8  |1.286810293|Familia|\n",
      "|AQUADRAN        |MAYO      |13786.2   |35738.51318|46764.0  |1.308504351|Familia|\n",
      "|AQUADRAN        |NOVIEMBRE |23765.4   |770.8181818|0.0      |0.0        |Familia|\n",
      "|AQUADRAN        |OCTUBRE   |24548.4   |770.8181818|0.0      |0.0        |Familia|\n",
      "|AQUADRAN        |SEPTIEMBRE|24526.8   |734.9681818|0.0      |0.0        |Familia|\n",
      "|AQUADRAN        |YTD_JUL   |97416.0   |258948.6791|271443.1 |1.048250568|Familia|\n",
      "|DUSTALOX        |ABRIL     |9428.91   |11675.36719|7592.8   |0.650326442|Familia|\n",
      "|DUSTALOX        |AGOSTO    |9930.94   |301.3045455|0.0      |0.0        |Familia|\n",
      "|DUSTALOX        |DICIEMBRE |7691.21   |315.4545455|0.0      |0.0        |Familia|\n",
      "|DUSTALOX        |ENERO     |13592.53  |8778.28    |8778.28  |1.0        |Familia|\n",
      "|DUSTALOX        |FEBRERO   |6813.43   |11070.27913|6292.47  |0.568411142|Familia|\n",
      "|DUSTALOX        |JULIO     |11432.26  |12885.54331|196.9    |0.015280691|Familia|\n",
      "|DUSTALOX        |JUNIO     |5938.11   |11675.36719|6509.96  |0.55758075 |Familia|\n",
      "|DUSTALOX        |MARZO     |6813.43   |11070.27913|9824.29  |0.887447361|Familia|\n",
      "|DUSTALOX        |MAYO      |12191.14  |11675.36719|5942.22  |0.508953586|Familia|\n",
      "|DUSTALOX        |NOVIEMBRE |8889.02   |315.4545455|0.0      |0.0        |Familia|\n",
      "|DUSTALOX        |OCTUBRE   |7104.66   |315.4545455|0.0      |0.0        |Familia|\n",
      "|DUSTALOX        |SEPTIEMBRE|13358.57  |301.3045455|0.0      |0.0        |Familia|\n",
      "|DUSTALOX        |YTD_JUL   |66209.81  |78830.48315|45136.92 |0.572582054|Familia|\n",
      "|ELAR-B          |ABRIL     |0.0       |24407.71845|14996.0  |0.614395812|Familia|\n",
      "|ELAR-B          |AGOSTO    |0.0       |495.3454545|0.0      |0.0        |Familia|\n",
      "|ELAR-B          |DICIEMBRE |2926.75   |516.9454545|0.0      |0.0        |Familia|\n",
      "|ELAR-B          |ENERO     |0.0       |10200.5    |10200.5  |1.0        |Familia|\n",
      "|ELAR-B          |FEBRERO   |0.0       |23180.02945|14426.75 |0.622378415|Familia|\n",
      "|ELAR-B          |JULIO     |0.0       |26863.09645|6767.75  |0.251934843|Familia|\n",
      "|ELAR-B          |JUNIO     |0.0       |24407.71845|17209.75 |0.70509458 |Familia|\n",
      "|ELAR-B          |MARZO     |0.0       |23180.02945|20688.5  |0.892513965|Familia|\n",
      "|ELAR-B          |MAYO      |0.0       |24407.71845|16864.75 |0.690959707|Familia|\n",
      "|ELAR-B          |NOVIEMBRE |5916.75   |517.9454545|0.0      |0.0        |Familia|\n",
      "|ELAR-B          |OCTUBRE   |8280.0    |517.9454545|0.0      |0.0        |Familia|\n",
      "|ELAR-B          |SEPTIEMBRE|1748.0    |495.3454545|0.0      |0.0        |Familia|\n",
      "|ELAR-B          |YTD_JUL   |0.0       |156646.8107|101154.0 |0.645745672|Familia|\n",
      "|ELIPTIC FAM     |ABRIL     |33278.04  |113627.5028|51806.79 |0.455935304|Familia|\n",
      "|ELIPTIC FAM     |AGOSTO    |31060.62  |3448.722727|0.0      |0.0        |Familia|\n",
      "|ELIPTIC FAM     |DICIEMBRE |52246.26  |3609.272727|0.0      |0.0        |Familia|\n",
      "|ELIPTIC FAM     |ENERO     |17741.06  |75101.55   |75101.55 |1.0        |Familia|\n",
      "|ELIPTIC FAM     |FEBRERO   |19544.51  |107789.2834|84288.73 |0.781976903|Familia|\n",
      "|ELIPTIC FAM     |JULIO     |21877.87  |125303.9417|10218.55 |0.081550108|Familia|\n",
      "|ELIPTIC FAM     |JUNIO     |18571.16  |113627.5028|61069.66 |0.537454916|Familia|\n",
      "|ELIPTIC FAM     |MARZO     |19544.51  |107789.2834|61213.98 |0.567904137|Familia|\n",
      "|ELIPTIC FAM     |MAYO      |14473.58  |113627.5028|60995.68 |0.536803841|Familia|\n",
      "|ELIPTIC FAM     |NOVIEMBRE |45634.51  |3609.272727|0.0      |0.0        |Familia|\n",
      "|ELIPTIC FAM     |OCTUBRE   |24297.2   |3609.272727|0.0      |0.0        |Familia|\n",
      "|ELIPTIC FAM     |SEPTIEMBRE|30695.48  |3448.722727|0.0      |0.0        |Familia|\n",
      "|ELIPTIC FAM     |YTD_JUL   |145030.73 |756866.5668|404694.94|0.534697869|Familia|\n",
      "|FLUMETOL NF     |ABRIL     |97096.28  |107397.8095|131378.66|1.22328994 |Familia|\n",
      "|FLUMETOL NF     |AGOSTO    |120003.77 |734.9681818|0.0      |0.0        |Familia|\n",
      "|FLUMETOL NF     |DICIEMBRE |97687.65  |770.8181818|0.0      |0.0        |Familia|\n",
      "|FLUMETOL NF     |ENERO     |106644.0  |144656.97  |144656.97|1.0        |Familia|\n",
      "|FLUMETOL NF     |FEBRERO   |84540.52  |101550.4985|130538.81|1.285457107|Familia|\n",
      "|FLUMETOL NF     |JULIO     |99312.38  |119092.4315|19849.85 |0.166675999|Familia|\n",
      "|FLUMETOL NF     |JUNIO     |87288.94  |107397.8095|115107.7 |1.071788154|Familia|\n",
      "|FLUMETOL NF     |MARZO     |84540.52  |101550.4985|142159.6 |1.399890715|Familia|\n",
      "|FLUMETOL NF     |MAYO      |84208.66  |107397.8095|126975.41|1.182290501|Familia|\n",
      "|FLUMETOL NF     |NOVIEMBRE |138467.25 |770.8181818|0.0      |0.0        |Familia|\n",
      "|FLUMETOL NF     |OCTUBRE   |133096.68 |770.8181818|0.0      |0.0        |Familia|\n",
      "|FLUMETOL NF     |SEPTIEMBRE|108382.52 |734.9681818|0.0      |0.0        |Familia|\n",
      "|FLUMETOL NF     |YTD_JUL   |643631.3  |789043.8271|810667.0 |1.027404274|Familia|\n",
      "|GAAP FAM        |ABRIL     |162597.45 |199898.6823|105247.15|0.52650247 |Familia|\n",
      "|GAAP FAM        |AGOSTO    |200913.89 |2823.254545|0.0      |0.0        |Familia|\n",
      "|GAAP FAM        |DICIEMBRE |136807.4  |2956.454545|0.0      |0.0        |Familia|\n",
      "|GAAP FAM        |ENERO     |169078.66 |198788.44  |198788.44|1.0        |Familia|\n",
      "|GAAP FAM        |FEBRERO   |165560.48 |189336.242 |160505.48|0.847727188|Familia|\n",
      "|GAAP FAM        |JULIO     |194520.31 |221023.5628|32603.91 |0.147513277|Familia|\n",
      "|GAAP FAM        |JUNIO     |155690.3  |199898.6823|157333.82|0.78706782 |Familia|\n",
      "|GAAP FAM        |MARZO     |165560.48 |189336.242 |150621.08|0.795521652|Familia|\n",
      "|GAAP FAM        |MAYO      |189372.95 |199898.6823|125926.36|0.629950926|Familia|\n",
      "|GAAP FAM        |NOVIEMBRE |187016.44 |2957.654545|0.0      |0.0        |Familia|\n",
      "|GAAP FAM        |OCTUBRE   |166393.8  |2957.654545|0.0      |0.0        |Familia|\n",
      "|GAAP FAM        |SEPTIEMBRE|170748.45 |2823.254545|0.0      |0.0        |Familia|\n",
      "|GAAP FAM        |YTD_JUL   |1202380.63|1398180.534|931026.24|0.665884138|Familia|\n",
      "|LAGRICEL FAM    |ABRIL     |375415.05 |436918.8275|456361.02|1.044498409|Familia|\n",
      "|LAGRICEL FAM    |AGOSTO    |444312.92 |9579.386364|0.0      |0.0        |Familia|\n",
      "|LAGRICEL FAM    |DICIEMBRE |287199.94 |10033.63636|0.0      |0.0        |Familia|\n",
      "|LAGRICEL FAM    |ENERO     |395594.16 |377004.34  |377004.34|1.0        |Familia|\n",
      "|LAGRICEL FAM    |FEBRERO   |439211.52 |414081.2322|413613.96|0.998871545|Familia|\n",
      "|LAGRICEL FAM    |JULIO     |390711.15 |482594.018 |66352.14 |0.137490598|Familia|\n",
      "|LAGRICEL FAM    |JUNIO     |312000.17 |436918.8275|386762.05|0.885203442|Familia|\n",
      "|LAGRICEL FAM    |MARZO     |439211.52 |414081.2322|447456.98|1.080601933|Familia|\n",
      "|LAGRICEL FAM    |MAYO      |357482.49 |436918.8275|348233.36|0.797020724|Familia|\n",
      "+----------------+----------+----------+-----------+---------+-----------+-------+\n",
      "only showing top 100 rows\n",
      "\n"
     ]
    }
   ],
   "source": [
    "df_total.show(100, truncate=False)"
   ]
  },
  {
   "cell_type": "markdown",
   "id": "be2dcd72",
   "metadata": {},
   "source": [
    "## Manejo de datos nulos\n"
   ]
  },
  {
   "cell_type": "code",
   "execution_count": 16,
   "id": "95ae6e02-3e08-461c-9bb6-46db264131d9",
   "metadata": {},
   "outputs": [
    {
     "name": "stdout",
     "output_type": "stream",
     "text": [
      "+-------------+-----------------------+----------------+\n",
      "|sum(Producto)|sum(Numero de articulo)|sum(Descripcion)|\n",
      "+-------------+-----------------------+----------------+\n",
      "|            0|                      0|               0|\n",
      "+-------------+-----------------------+----------------+\n",
      "\n",
      "+-------------+-------------------+-------------+------------+--------+---------+-------------+\n",
      "|sum(Vendedor)|sum(Nombre Cliente)|sum(Producto)|sum(MES NUM)|sum(Mes)|sum(2025)|sum(CANTIDAD)|\n",
      "+-------------+-------------------+-------------+------------+--------+---------+-------------+\n",
      "|            0|                  0|            0|           0|       0|        0|            0|\n",
      "+-------------+-------------------+-------------+------------+--------+---------+-------------+\n",
      "\n"
     ]
    }
   ],
   "source": [
    "from pyspark.sql.functions import col\n",
    "\n",
    "# Contar nulos en df_maestra\n",
    "df_maestra.select([\n",
    "    (col(c).isNull().cast(\"int\")).alias(c) for c in df_maestra.columns\n",
    "]).groupBy().sum().show()\n",
    "\n",
    "# Contar nulos en df_zona\n",
    "df_zona.select([\n",
    "    (col(c).isNull().cast(\"int\")).alias(c) for c in df_zona.columns\n",
    "]).groupBy().sum().show()\n"
   ]
  },
  {
   "cell_type": "code",
   "execution_count": 17,
   "id": "66687a23-fdaa-45f2-9b23-61f2655ffb1d",
   "metadata": {},
   "outputs": [],
   "source": [
    "# Eliminar filas con valores nulos en maestra\n",
    "df_maestra_clean = df_maestra.na.drop()\n",
    "\n",
    "# Eliminar filas con valores nulos en zona\n",
    "df_zona_clean = df_zona.na.drop()\n"
   ]
  },
  {
   "cell_type": "code",
   "execution_count": 18,
   "id": "2b824d24-5fc2-4a1c-b62c-2071398fc73a",
   "metadata": {},
   "outputs": [],
   "source": [
    "# Rellenar con texto en columnas de tipo string\n",
    "df_maestra_filled = df_maestra.na.fill(\"Desconocido\")\n",
    "\n",
    "# Rellenar con 0 en columnas numéricas de df_zona\n",
    "df_zona_filled = df_zona.na.fill(0)\n"
   ]
  },
  {
   "cell_type": "markdown",
   "id": "dd37570d",
   "metadata": {},
   "source": [
    "## Correción de tipo de datos\n"
   ]
  },
  {
   "cell_type": "code",
   "execution_count": 19,
   "id": "a3c25d78-4e3a-4531-acd7-326853a13e91",
   "metadata": {},
   "outputs": [],
   "source": [
    "df_maestra = df_maestra.withColumn(\"Numero de articulo\", col(\"Numero de articulo\").cast(\"int\"))"
   ]
  },
  {
   "cell_type": "code",
   "execution_count": 20,
   "id": "6ed3ae1b-8c09-4cc8-b1a4-52ff2ed055af",
   "metadata": {},
   "outputs": [],
   "source": [
    "df_zona = df_zona.withColumn(\"2025\", col(\"2025\").cast(\"double\")) "
   ]
  },
  {
   "cell_type": "code",
   "execution_count": 21,
   "id": "ea76634a-6b7e-4bcd-acbf-48af46ebeee9",
   "metadata": {},
   "outputs": [],
   "source": [
    "# Filtrado de datos irrelevantes"
   ]
  },
  {
   "cell_type": "code",
   "execution_count": 22,
   "id": "7da37b98-d8ce-4e22-b676-fc571d612809",
   "metadata": {},
   "outputs": [],
   "source": [
    "# Filtrar productos sin descripción\n",
    "df_maestra = df_maestra.filter(col(\"Descripcion\").isNotNull())\n",
    "\n",
    "# Filtrar zonas con ventas registradas en cero\n",
    "df_zona = df_zona.filter(col(\"2025\") > 0)\n"
   ]
  },
  {
   "cell_type": "markdown",
   "id": "668c4772",
   "metadata": {},
   "source": [
    "## Union\n"
   ]
  },
  {
   "cell_type": "code",
   "execution_count": 23,
   "id": "3e6fc121-8e4d-4110-bc37-6e58305f52ac",
   "metadata": {},
   "outputs": [],
   "source": [
    "df_zona = df_zona.filter(col(\"CANTIDAD\") >= 0)\n",
    "df_zona = df_zona.filter(col(\"2025\") >= 0)"
   ]
  },
  {
   "cell_type": "code",
   "execution_count": 24,
   "id": "7597c902-1930-4819-adb9-a07e80d64621",
   "metadata": {},
   "outputs": [],
   "source": [
    "from pyspark.sql.functions import col\n",
    "\n",
    "df_final = df_maestra.join(\n",
    "    df_zona,\n",
    "    df_maestra[\"Producto\"] == df_zona[\"Producto\"],\n",
    "    how=\"inner\"\n",
    ").drop(df_zona[\"Producto\"])"
   ]
  },
  {
   "cell_type": "code",
   "execution_count": 25,
   "id": "54bba5a1-c28e-4e7e-95d3-5274a5b35145",
   "metadata": {},
   "outputs": [
    {
     "name": "stdout",
     "output_type": "stream",
     "text": [
      "+-----------+------------------+--------------------+-----------+--------------------+-------+---+-------+--------+\n",
      "|   Producto|Numero de articulo|         Descripcion|   Vendedor|      Nombre Cliente|MES NUM|Mes|   2025|CANTIDAD|\n",
      "+-----------+------------------+--------------------+-----------+--------------------+-------+---+-------+--------+\n",
      "|FLUMETOL NF|             40513|FLUMETOL NF OFTEN...|Pharma - N1|BENEL PEREZ,DENNY...|      1|ENE| 898.37|      20|\n",
      "| TRAZIDEX U|             40342|TRAZIDEX UNGENA 3...|Pharma - N1|BENEL PEREZ,DENNY...|      1|ENE|1028.61|      20|\n",
      "|FLUMETOL NF|             40513|FLUMETOL NF OFTEN...|Pharma - N1|BM CLINICA DE OJO...|      1|ENE| 612.53|      15|\n",
      "|       GAAP|             40498|    GAAP OFTENO 3 ML|Pharma - N1|BM CLINICA DE OJO...|      1|ENE|1925.85|      25|\n",
      "| TRAZIDEX O|             40341|TRAZIDEX OFTENO 5...|Pharma - N1|BM CLINICA DE OJO...|      1|ENE| 250.05|       6|\n",
      "| TRAZIDEX U|             40342|TRAZIDEX UNGENA 3...|Pharma - N1|BM CLINICA DE OJO...|      1|ENE| 635.59|       0|\n",
      "| TRAZIDEX U|             40342|TRAZIDEX UNGENA 3...|Pharma - N1|BUENA VISION NORT...|      1|ENE|1028.61|       0|\n",
      "|   AQUADRAN|             41945|        AQUADRAN 10G|Pharma - N1|CARMONA HUAYGUA,K...|      1|ENE|  540.0|       0|\n",
      "| ELIPTIC PF|             41561|ELIPTIC OFTENO 5M...|Pharma - N1|CARMONA HUAYGUA,K...|      1|ENE| 237.76|       0|\n",
      "|  SOPHIPREN|             40338|SOPHIPREN OFTENO ...|Pharma - N1|CARMONA HUAYGUA,K...|      1|ENE| 465.85|       0|\n",
      "|   ZEBESTEN|             41604|   ZEBESTEN 5ML PERU|Pharma - N1|CARMONA HUAYGUA,K...|      1|ENE| 490.88|       0|\n",
      "| ELIPTIC PF|             41561|ELIPTIC OFTENO 5M...|Pharma - N1|CENTRO OFTALMOLOG...|      1|ENE|1144.01|       0|\n",
      "|LAGRICEL PF|             41582|LAGRICEL OFTENO L...|Pharma - N1|CENTRO OFTALMOLOG...|      1|ENE|1249.71|       0|\n",
      "|     LANDAX|             41804|          LANDAX 5ML|Pharma - N1|CENTRO OFTALMOLOG...|      1|ENE|  466.1|       0|\n",
      "| TRAZIDEX O|             40341|TRAZIDEX OFTENO 5...|Pharma - N1|CENTRO OFTALMOLOG...|      1|ENE| 509.36|       0|\n",
      "|   ZEBESTEN|             41604|   ZEBESTEN 5ML PERU|Pharma - N1|CENTRO OFTALMOLOG...|      1|ENE| 981.75|       0|\n",
      "|     AGGLAD|             40351|  AGGLAD OFTENO 5 ML|Pharma - N1|CLINICA DE OJOS G...|      1|ENE| 513.58|       0|\n",
      "| ELIPTIC PF|             41561|ELIPTIC OFTENO 5M...|Pharma - N1|CLINICA DE OJOS G...|      1|ENE| 389.83|      10|\n",
      "|LAGRICEL PF|             41582|LAGRICEL OFTENO L...|Pharma - N1|CLINICA DE OJOS G...|      1|ENE|1981.36|       0|\n",
      "|   ZEBESTEN|             41604|   ZEBESTEN 5ML PERU|Pharma - N1|CLINICA DE OJOS G...|      1|ENE| 490.88|       0|\n",
      "+-----------+------------------+--------------------+-----------+--------------------+-------+---+-------+--------+\n",
      "only showing top 20 rows\n",
      "\n"
     ]
    }
   ],
   "source": [
    "df_final.show()"
   ]
  },
  {
   "cell_type": "markdown",
   "id": "79380a13",
   "metadata": {},
   "source": [
    "## Feature engeeniring"
   ]
  },
  {
   "cell_type": "code",
   "execution_count": 30,
   "id": "2e510f7c-311b-4245-a4b2-d92d8c31d60b",
   "metadata": {},
   "outputs": [],
   "source": [
    "from pyspark.sql.functions import col, count, avg, sum, max, min, when, datediff, current_date\n"
   ]
  },
  {
   "cell_type": "code",
   "execution_count": 31,
   "id": "97e76409-7b54-4e17-8e0c-fe586b3ce44e",
   "metadata": {},
   "outputs": [],
   "source": [
    "df_final = df_final.withColumn(\"Precio_Unitario\", \n",
    "                               when(col(\"CANTIDAD\") > 0, col(\"2025\") / col(\"CANTIDAD\")).otherwise(0))"
   ]
  },
  {
   "cell_type": "code",
   "execution_count": 32,
   "id": "7d91f41a-0b4a-403c-b7ab-a5954d1a49e9",
   "metadata": {},
   "outputs": [],
   "source": [
    "df_final = df_final.withColumn(\"Precio_Unitario\", \n",
    "                               when(col(\"CANTIDAD\") > 0, col(\"2025\") / col(\"CANTIDAD\")).otherwise(0))"
   ]
  },
  {
   "cell_type": "code",
   "execution_count": 33,
   "id": "9756cd89-1421-40a9-b518-a44d3a25b13f",
   "metadata": {},
   "outputs": [],
   "source": [
    "# 2. Gasto total por cliente\n",
    "gasto_cliente = df_final.groupBy(\"Nombre Cliente\").agg(sum(\"2025\").alias(\"Gasto_Total\"))"
   ]
  },
  {
   "cell_type": "code",
   "execution_count": 34,
   "id": "44971ac0-bf56-4961-8666-c92afbc9feb5",
   "metadata": {},
   "outputs": [],
   "source": [
    "# 3. Cantidad total por cliente\n",
    "cantidad_cliente = df_final.groupBy(\"Nombre Cliente\").agg(sum(\"CANTIDAD\").alias(\"Cantidad_Total\"))"
   ]
  },
  {
   "cell_type": "code",
   "execution_count": 35,
   "id": "9e04481e-2fdc-4b43-a0bb-1861bc1f1119",
   "metadata": {},
   "outputs": [],
   "source": [
    "# 4. Promedio de gasto y cantidad por cliente\n",
    "promedios_cliente = df_final.groupBy(\"Nombre Cliente\").agg(\n",
    "    avg(\"2025\").alias(\"Gasto_Promedio\"),\n",
    "    avg(\"CANTIDAD\").alias(\"Cantidad_Promedio\")\n",
    ")\n",
    "\n",
    "# 5. Frecuencia de compra por cliente (número de transacciones)\n",
    "frecuencia_cliente = df_final.groupBy(\"Nombre Cliente\").agg(\n",
    "    count(\"Producto\").alias(\"Frecuencia_Compra\")\n",
    ")\n",
    "\n",
    "# 6. Última compra (para calcular recencia)\n",
    "ultima_compra = df_final.groupBy(\"Nombre Cliente\").agg(\n",
    "    max(\"MES NUM\").alias(\"Ultimo_Mes\")\n",
    ")"
   ]
  },
  {
   "cell_type": "code",
   "execution_count": 36,
   "id": "2ce6800f-ce0f-46a4-9629-e7a2daf4fbaa",
   "metadata": {},
   "outputs": [
    {
     "name": "stdout",
     "output_type": "stream",
     "text": [
      "+-----------------------------------------+------------------+--------------+------------------+------------------+-----------------+----------+\n",
      "|Nombre Cliente                           |Gasto_Total       |Cantidad_Total|Gasto_Promedio    |Cantidad_Promedio |Frecuencia_Compra|Ultimo_Mes|\n",
      "+-----------------------------------------+------------------+--------------+------------------+------------------+-----------------+----------+\n",
      "|CLINICA SAN FELIPE S A                   |21985.35          |700.0         |1099.2675         |35.0              |20               |7         |\n",
      "|GOOD VISION E.I.R.L.                     |572.59            |12.0          |572.59            |12.0              |1                |3         |\n",
      "|FONDO DE EMPLEADOS DEL BANCO DE LA NACION|8872.98           |229.0         |2957.66           |76.33333333333333 |3                |3         |\n",
      "|CONSORCIO QORITAQQUE B Y T S.R.L.        |1427.8200000000002|29.0          |475.94000000000005|9.666666666666666 |3                |2         |\n",
      "|ETHIC FARMACIA SAC                       |439.88            |6.0           |146.62666666666667|2.0               |3                |3         |\n",
      "|CENTRO DE CATARATA Y LASER E.I.R.L.      |77435.25          |1720.0        |2092.8445945945946|46.486486486486484|37               |6         |\n",
      "|AAA SAC                                  |35454.700000000004|720.0         |2954.558333333334 |60.0              |12               |5         |\n",
      "|HOSPITAL METROPOLITANO SOCIEDAD ANONIMA  |9518.95           |160.0         |500.99736842105267|8.421052631578947 |19               |6         |\n",
      "|RUIZ VIGO JORGE EDUARDO                  |2760.26           |54.0          |552.052           |10.8              |5                |5         |\n",
      "|OFTALMORETINA S.A.C.                     |1990.51           |36.0          |331.75166666666667|6.0               |6                |6         |\n",
      "+-----------------------------------------+------------------+--------------+------------------+------------------+-----------------+----------+\n",
      "only showing top 10 rows\n",
      "\n"
     ]
    }
   ],
   "source": [
    "# Combinar todas las features\n",
    "features = gasto_cliente \\\n",
    "    .join(cantidad_cliente, \"Nombre Cliente\") \\\n",
    "    .join(promedios_cliente, \"Nombre Cliente\") \\\n",
    "    .join(frecuencia_cliente, \"Nombre Cliente\") \\\n",
    "    .join(ultima_compra, \"Nombre Cliente\")\n",
    "\n",
    "# Mostrar resultado\n",
    "features.show(10, truncate=False)"
   ]
  },
  {
   "cell_type": "code",
   "execution_count": 47,
   "id": "5951d245-bceb-49e9-b756-4158107925ca",
   "metadata": {},
   "outputs": [],
   "source": [
    "# Agregar df_total por producto (suma o promedio de todos los meses)\n",
    "df_total_agg = df_total.groupBy(\"Producto_Familia\", \"Nivel\").agg(\n",
    "    sum(\"Venta\").alias(\"Venta_Total_Anual\"),\n",
    "    sum(\"TGT\").alias(\"Target_Total_Anual\"),\n",
    "    sum(\"PY24\").alias(\"PY24_Total_Anual\"),\n",
    "    avg(\"pct\").alias(\"pct_Promedio\")\n",
    ")\n",
    "\n",
    "df_completo = df_final.join(\n",
    "    df_total_agg,\n",
    "    df_final[\"Producto\"] == df_total_agg[\"Producto_Familia\"],\n",
    "    how=\"left\"\n",
    ")"
   ]
  },
  {
   "cell_type": "code",
   "execution_count": 49,
   "id": "e5f48b20-aeed-4a48-9b05-0b2fe2bebd84",
   "metadata": {},
   "outputs": [
    {
     "name": "stdout",
     "output_type": "stream",
     "text": [
      "+-----------+------------------+--------------------+-----------+--------------------+-------+---+-------+--------+------------------+----------------+--------+------------------+------------------+------------------+--------------------+\n",
      "|   Producto|Numero de articulo|         Descripcion|   Vendedor|      Nombre Cliente|MES NUM|Mes|   2025|CANTIDAD|   Precio_Unitario|Producto_Familia|   Nivel| Venta_Total_Anual|Target_Total_Anual|  PY24_Total_Anual|        pct_Promedio|\n",
      "+-----------+------------------+--------------------+-----------+--------------------+-------+---+-------+--------+------------------+----------------+--------+------------------+------------------+------------------+--------------------+\n",
      "|FLUMETOL NF|             40513|FLUMETOL NF OFTEN...|Pharma - N1|BENEL PEREZ,DENNY...|      1|ENE| 898.37|      20|           44.9185|     FLUMETOL NF|Producto|         1621334.0|     1593594.73592|1884900.4700000002| 0.10436897615384616|\n",
      "|FLUMETOL NF|             40513|FLUMETOL NF OFTEN...|Pharma - N1|BENEL PEREZ,DENNY...|      1|ENE| 898.37|      20|           44.9185|     FLUMETOL NF| Familia|         1621334.0|1581870.0450089998|1884900.4700000002|  0.6428305146153845|\n",
      "| TRAZIDEX U|             40342|TRAZIDEX UNGENA 3...|Pharma - N1|BENEL PEREZ,DENNY...|      1|ENE|1028.61|      20|51.430499999999995|      TRAZIDEX U|Producto|1580791.3600000003|      2169440.6359|2400196.4000000004|-0.07737670146153847|\n",
      "|FLUMETOL NF|             40513|FLUMETOL NF OFTEN...|Pharma - N1|BM CLINICA DE OJO...|      1|ENE| 612.53|      15| 40.83533333333333|     FLUMETOL NF|Producto|         1621334.0|     1593594.73592|1884900.4700000002| 0.10436897615384616|\n",
      "|FLUMETOL NF|             40513|FLUMETOL NF OFTEN...|Pharma - N1|BM CLINICA DE OJO...|      1|ENE| 612.53|      15| 40.83533333333333|     FLUMETOL NF| Familia|         1621334.0|1581870.0450089998|1884900.4700000002|  0.6428305146153845|\n",
      "|       GAAP|             40498|    GAAP OFTENO 3 ML|Pharma - N1|BM CLINICA DE OJO...|      1|ENE|1925.85|      25| 77.03399999999999|            GAAP|Producto|         884442.98|1437386.7276149997|1663097.1400000001| -0.1513475973076923|\n",
      "| TRAZIDEX O|             40341|TRAZIDEX OFTENO 5...|Pharma - N1|BM CLINICA DE OJO...|      1|ENE| 250.05|       6|41.675000000000004|      TRAZIDEX O|Producto|        1193499.42|1569585.6387399998|1695458.8299999998|-0.07205232838461538|\n",
      "| TRAZIDEX U|             40342|TRAZIDEX UNGENA 3...|Pharma - N1|BM CLINICA DE OJO...|      1|ENE| 635.59|       0|               0.0|      TRAZIDEX U|Producto|1580791.3600000003|      2169440.6359|2400196.4000000004|-0.07737670146153847|\n",
      "| TRAZIDEX U|             40342|TRAZIDEX UNGENA 3...|Pharma - N1|BUENA VISION NORT...|      1|ENE|1028.61|       0|               0.0|      TRAZIDEX U|Producto|1580791.3600000003|      2169440.6359|2400196.4000000004|-0.07737670146153847|\n",
      "|   AQUADRAN|             41945|        AQUADRAN 10G|Pharma - N1|CARMONA HUAYGUA,K...|      1|ENE|  540.0|       0|               0.0|        AQUADRAN|Producto|          542886.2|     521679.749089|306925.19999999995| 0.11604807361538462|\n",
      "|   AQUADRAN|             41945|        AQUADRAN 10G|Pharma - N1|CARMONA HUAYGUA,K...|      1|ENE|  540.0|       0|               0.0|        AQUADRAN| Familia|          542886.2|     521679.749089|306925.19999999995|  0.6545096120769232|\n",
      "| ELIPTIC PF|             41561|ELIPTIC OFTENO 5M...|Pharma - N1|CARMONA HUAYGUA,K...|      1|ENE| 237.76|       0|               0.0|      ELIPTIC PF|Producto|         595728.54|        1031429.28|         367771.36| -0.1692865798461538|\n",
      "|  SOPHIPREN|             40338|SOPHIPREN OFTENO ...|Pharma - N1|CARMONA HUAYGUA,K...|      1|ENE| 465.85|       0|               0.0|       SOPHIPREN|Producto|         763001.94|     825589.095545| 934917.5899999999|  0.0447922587692308|\n",
      "|  SOPHIPREN|             40338|SOPHIPREN OFTENO ...|Pharma - N1|CARMONA HUAYGUA,K...|      1|ENE| 465.85|       0|               0.0|       SOPHIPREN| Familia|         763001.94|     825589.095545| 934917.5899999999|  0.5832537972307693|\n",
      "|   ZEBESTEN|             41604|   ZEBESTEN 5ML PERU|Pharma - N1|CARMONA HUAYGUA,K...|      1|ENE| 490.88|       0|               0.0|        ZEBESTEN|Producto|         395027.36|439876.52032250003|         503469.46|0.023811460692307697|\n",
      "|   ZEBESTEN|             41604|   ZEBESTEN 5ML PERU|Pharma - N1|CARMONA HUAYGUA,K...|      1|ENE| 490.88|       0|               0.0|        ZEBESTEN| Familia|         395027.36|439876.52032250003|         503469.46|  0.5622729991538461|\n",
      "| ELIPTIC PF|             41561|ELIPTIC OFTENO 5M...|Pharma - N1|CENTRO OFTALMOLOG...|      1|ENE|1144.01|       0|               0.0|      ELIPTIC PF|Producto|         595728.54|        1031429.28|         367771.36| -0.1692865798461538|\n",
      "|LAGRICEL PF|             41582|LAGRICEL OFTENO L...|Pharma - N1|CENTRO OFTALMOLOG...|      1|ENE|1249.71|       0|               0.0|     LAGRICEL PF|Producto|3157712.6399999997|     3659144.53871|4188089.2300000004|0.004431587461538463|\n",
      "|     LANDAX|             41804|          LANDAX 5ML|Pharma - N1|CENTRO OFTALMOLOG...|      1|ENE|  466.1|       0|               0.0|          LANDAX|Producto|         209856.94|318366.60998999997|         191926.07| -0.1245892148461538|\n",
      "|     LANDAX|             41804|          LANDAX 5ML|Pharma - N1|CENTRO OFTALMOLOG...|      1|ENE|  466.1|       0|               0.0|          LANDAX| Familia|         209856.94|318366.60998999997|         191926.07|  0.4138723236153846|\n",
      "+-----------+------------------+--------------------+-----------+--------------------+-------+---+-------+--------+------------------+----------------+--------+------------------+------------------+------------------+--------------------+\n",
      "only showing top 20 rows\n",
      "\n"
     ]
    }
   ],
   "source": [
    "df_completo.show()"
   ]
  },
  {
   "cell_type": "code",
   "execution_count": 50,
   "id": "c0e9ad43-7d61-4f53-ae39-2c36f58fb3aa",
   "metadata": {},
   "outputs": [
    {
     "name": "stdout",
     "output_type": "stream",
     "text": [
      "Registros en df_final: 3840\n",
      "Registros en df_completo: 5556\n"
     ]
    }
   ],
   "source": [
    "# Contar registros antes y después\n",
    "print(f\"Registros en df_final: {df_final.count()}\")\n",
    "print(f\"Registros en df_completo: {df_completo.count()}\")\n",
    "\n",
    "# Deberían ser iguales si el join está bien hecho"
   ]
  },
  {
   "cell_type": "code",
   "execution_count": null,
   "id": "ebbc7e47-9eec-4371-be58-8af18a2186f1",
   "metadata": {},
   "outputs": [],
   "source": []
  }
 ],
 "metadata": {
  "kernelspec": {
   "display_name": "Python 3 (ipykernel)",
   "language": "python",
   "name": "python3"
  },
  "language_info": {
   "codemirror_mode": {
    "name": "ipython",
    "version": 3
   },
   "file_extension": ".py",
   "mimetype": "text/x-python",
   "name": "python",
   "nbconvert_exporter": "python",
   "pygments_lexer": "ipython3",
   "version": "3.11.2"
  }
 },
 "nbformat": 4,
 "nbformat_minor": 5
}
